{
 "cells": [
  {
   "cell_type": "markdown",
   "id": "7e626518",
   "metadata": {},
   "source": [
    "In the file cnbc.html you will see a lot of places where you will find URLs of the type http:// ... .  If you want to extract only the URLs (anything starting with http including https), how would think about solving the problem.  Think of a good algorithm that is efficient for counting the URLs. \n",
    "Come ready to discuss this next week.\n",
    "Is your approach efficient?  If so, argue how so?"
   ]
  },
  {
   "cell_type": "markdown",
   "id": "9aec311c",
   "metadata": {},
   "source": [
    "1. Read the HTML file\n",
    "2. Use regex to find all the instances of URLs that start with http or https\n",
    "3. Save the results to output files"
   ]
  },
  {
   "cell_type": "code",
   "execution_count": 61,
   "id": "9f9e46a6",
   "metadata": {},
   "outputs": [],
   "source": [
    "import re"
   ]
  },
  {
   "cell_type": "code",
   "execution_count": 62,
   "id": "dfd5d3ee",
   "metadata": {},
   "outputs": [],
   "source": [
    "#input file name\n",
    "input_file_name = \"cnbc.html\"\n",
    "\n",
    "#output file names\n",
    "urls_output_filename = \"urls.txt\"\n",
    "encoded_urls_output_filename = \"encoded_urls.txt\"\n",
    "\n",
    "html_content    = \"\"\n",
    "\n",
    "with open(input_file_name, \"r\") as file:\n",
    "    html_content = file.read()\n"
   ]
  },
  {
   "cell_type": "code",
   "execution_count": 63,
   "id": "17cd8963",
   "metadata": {},
   "outputs": [],
   "source": [
    "def findURLs(html_content):\n",
    "    # Regex pattern to find all URLs starting with http or https\n",
    "    url_pattern = r'https?://[^\\s\\)\\\"\\'\\}\\]\\)]+'\n",
    "    encoded_url_pattern = r'https?:\\\\[^\\s\\)\\\"\\'\\}\\]\\)]+'\n",
    "    urls = re.findall(url_pattern, html_content)\n",
    "    encoded_urls = re.findall(encoded_url_pattern, html_content)\n",
    "    print(f\"Fetched {len(urls)} urls and saved to {urls_output_filename}\")\n",
    "    print(f\"Fetched {len(encoded_urls)} encoded urls and saved to {encoded_urls_output_filename}\")\n",
    "    return urls, encoded_urls"
   ]
  },
  {
   "cell_type": "code",
   "execution_count": 64,
   "id": "495d4caa",
   "metadata": {},
   "outputs": [
    {
     "name": "stdout",
     "output_type": "stream",
     "text": [
      "Fetched 866 urls and saved to urls.txt\n",
      "Fetched 649 encoded urls and saved to encoded_urls.txt\n"
     ]
    }
   ],
   "source": [
    "urls, encoded_urls = findURLs(html_content)\n",
    "with open(urls_output_filename, \"w\") as f:\n",
    "    for url in urls:\n",
    "        f.write(url + \"\\n\")\n",
    "with open(encoded_urls_output_filename, \"w\") as f:\n",
    "    for encoded_url in encoded_urls:\n",
    "        f.write(encoded_url + \"\\n\")"
   ]
  },
  {
   "cell_type": "markdown",
   "id": "e6fceb95",
   "metadata": {},
   "source": []
  }
 ],
 "metadata": {
  "kernelspec": {
   "display_name": "Python 3",
   "language": "python",
   "name": "python3"
  },
  "language_info": {
   "codemirror_mode": {
    "name": "ipython",
    "version": 3
   },
   "file_extension": ".py",
   "mimetype": "text/x-python",
   "name": "python",
   "nbconvert_exporter": "python",
   "pygments_lexer": "ipython3",
   "version": "3.11.9"
  }
 },
 "nbformat": 4,
 "nbformat_minor": 5
}
